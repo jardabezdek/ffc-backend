{
 "cells": [
  {
   "cell_type": "markdown",
   "id": "94b57b47",
   "metadata": {},
   "source": [
    "## In this notebook\n",
    "\n",
    "- Generate players data in three different versions.\n",
    "    - v1 - players data extracted from play-to-play data; all columns\n",
    "    - v2 - players data extracted from play-to-play data + players game log data; all columns\n",
    "    - v3 - players data extracted from play-to-play data + players game log data; subset of columns"
   ]
  },
  {
   "cell_type": "code",
   "execution_count": 1,
   "id": "50ffa15e",
   "metadata": {},
   "outputs": [],
   "source": [
    "import io\n",
    "import json\n",
    "import os\n",
    "from pathlib import Path\n",
    "from typing import List\n",
    "\n",
    "import boto3\n",
    "import pandas as pd\n",
    "pd.set_option(\"display.max_rows\", 100)\n",
    "pd.set_option(\"display.max_columns\", 100)\n",
    "import requests\n",
    "\n",
    "from tqdm.notebook import tqdm"
   ]
  },
  {
   "cell_type": "code",
   "execution_count": 2,
   "id": "5db11d8b",
   "metadata": {},
   "outputs": [],
   "source": [
    "S3_ACCESS_KEY_ID = \"\"\n",
    "S3_SECRET_ACCESS_KEY = \"\"\n",
    "\n",
    "DATA_PATH = Path(\"/usr/src/app/data/\")"
   ]
  },
  {
   "cell_type": "code",
   "execution_count": 3,
   "id": "647144fa",
   "metadata": {},
   "outputs": [],
   "source": [
    "s3 = boto3.resource(\n",
    "    \"s3\",\n",
    "    aws_access_key_id=S3_ACCESS_KEY_ID,\n",
    "    aws_secret_access_key=S3_SECRET_ACCESS_KEY\n",
    ")\n",
    "\n",
    "\n",
    "def read_json_from_s3(bucket_name: str, key: str) -> pd.DataFrame:\n",
    "    return json.loads(\n",
    "        s3.Object(bucket_name=bucket_name, key=key)\n",
    "        .get()[\"Body\"]\n",
    "        .read()\n",
    "        .decode(\"utf-8\")\n",
    "    )\n",
    "\n",
    "\n",
    "def read_parquet_from_s3(bucket_name: str, key: str) -> pd.DataFrame:\n",
    "    return pd.read_parquet(\n",
    "        io.BytesIO(\n",
    "            s3.Object(bucket_name=bucket_name, key=key)\n",
    "            .get()[\"Body\"]\n",
    "            .read()\n",
    "        )\n",
    "    )\n",
    "\n",
    "def get_general_game_features(game: dict) -> dict:\n",
    "    return {\n",
    "        \"game_id\": game.get(\"id\"),\n",
    "        \"game_date\": game.get(\"gameDate\"),\n",
    "        \"away_team_id\": game.get(\"awayTeam\", {}).get(\"id\"),\n",
    "        \"home_team_id\": game.get(\"homeTeam\", {}).get(\"id\"),\n",
    "    }\n",
    "\n",
    "def get_game_log_features(player_id: int, game_id: int, season: str, season_type: str) -> dict:    \n",
    "    response = requests.get(\n",
    "        url=f\"https://api-web.nhle.com/v1/player/{player_id}/game-log/{season}/{season_type}\"\n",
    "    )\n",
    "    \n",
    "    game_log = {}\n",
    "    \n",
    "    if response.ok:\n",
    "        game_log = next(\n",
    "            (\n",
    "                item for item \n",
    "                in response.json().get(\"gameLog\", {}) \n",
    "                if item[\"gameId\"] == game_id\n",
    "            ), \n",
    "            {}\n",
    "        )\n",
    "    \n",
    "    return {\n",
    "        \"goals\": game_log.get(\"goals\"),\n",
    "        \"assists\": game_log.get(\"assists\"),\n",
    "        \"points\": game_log.get(\"points\"),\n",
    "        \"pim\": game_log.get(\"pim\"),\n",
    "        \"toi\": game_log.get(\"toi\"),\n",
    "        \n",
    "        # goaltender stats\n",
    "        \"games_started\": game_log.get(\"gamesStarted\"),\n",
    "        \"shots_against\": game_log.get(\"shotsAgainst\"),\n",
    "        \"goals_against\": game_log.get(\"goalsAgainst\"),\n",
    "        \"save_pctg\": game_log.get(\"savePctg\"),\n",
    "        \"shutouts\": game_log.get(\"shutouts\"),\n",
    "        \n",
    "        # skater stats\n",
    "        \"plus_minus\": game_log.get(\"plusMinus\"),\n",
    "        \"power_play_goals\": game_log.get(\"powerPlayGoals\"),\n",
    "        \"power_play_points\": game_log.get(\"powerPlayPoints\"),\n",
    "        \"game_winning_goals\": game_log.get(\"gameWinningGoals\"),\n",
    "        \"ot_goals\": game_log.get(\"otGoals\"),\n",
    "        \"shots\": game_log.get(\"shots\"),\n",
    "        \"shifts\": game_log.get(\"shifts\"),\n",
    "        \"shorthanded_goals\": game_log.get(\"shorthandedGoals\"),\n",
    "        \"shorthanded_points\": game_log.get(\"shorthandedPoints\"),\n",
    "    }\n",
    "\n",
    "def get_df_players(game: dict) -> pd.DataFrame:\n",
    "    game_id = game.get(\"id\")\n",
    "    season_start_year = int(game_id / 1e+6)\n",
    "    \n",
    "    return pd.DataFrame(\n",
    "        [\n",
    "            {\n",
    "                **get_general_game_features(game=game),\n",
    "                \"player_id\": player.get(\"playerId\"),\n",
    "                \"team_id\": player.get(\"teamId\"),\n",
    "                \"season\": game.get(\"season\"),\n",
    "                \"first_name\": player.get(\"firstName\").get(\"default\"),\n",
    "                \"last_name\": player.get(\"lastName\").get(\"default\"),\n",
    "                \"sweater_number\": player.get(\"sweaterNumber\"),\n",
    "                \"position_code\": player.get(\"positionCode\"),\n",
    "                \"headshot\": player.get(\"headshot\"),\n",
    "                # **get_game_log_features(\n",
    "                #     player_id=player.get(\"playerId\"), \n",
    "                #     game_id=game.get(\"id\"),\n",
    "                #     season=f\"{season_start_year}{season_start_year + 1}\",\n",
    "                #     season_type=str(game_id)[5],\n",
    "                # )\n",
    "            } \n",
    "            for player in game.get(\"rosterSpots\")\n",
    "        ]\n",
    "    )"
   ]
  },
  {
   "cell_type": "code",
   "execution_count": 4,
   "id": "27005190",
   "metadata": {
    "scrolled": true
   },
   "outputs": [],
   "source": [
    "BUCKET_NAME = \"frozen-facts-center-raw\"\n",
    "KEY = \"games/2020/regular/2020020003.json\"\n",
    "\n",
    "# game = read_json_from_s3(bucket_name=BUCKET_NAME, key=KEY)\n",
    "# df_players = get_df_players(game=game)\n",
    "\n",
    "# df_players"
   ]
  },
  {
   "cell_type": "code",
   "execution_count": 5,
   "id": "e1604db7",
   "metadata": {
    "scrolled": true
   },
   "outputs": [
    {
     "data": {
      "application/vnd.jupyter.widget-view+json": {
       "model_id": "14b169770e3b45f7b8b8e84d751e3c84",
       "version_major": 2,
       "version_minor": 0
      },
      "text/plain": [
       "  0%|          | 0/5156 [00:00<?, ?it/s]"
      ]
     },
     "metadata": {},
     "output_type": "display_data"
    }
   ],
   "source": [
    "bucket_raw = s3.Bucket(\"frozen-facts-center-raw\")\n",
    "# bucket_base = s3.Bucket(\"frozen-facts-center-base\")\n",
    "\n",
    "for obj_raw in tqdm(bucket_raw.objects.all(), total=len(list(bucket_raw.objects.all()))):\n",
    "    \n",
    "    # create file path\n",
    "    parquet_file_key = obj_raw.key.replace(\"games/\", \"players/\").replace(\".json\", \".parquet\")\n",
    "    \n",
    "    file_path = DATA_PATH / parquet_file_key\n",
    "    file_path.parent.mkdir(parents=True, exist_ok=True)\n",
    "    \n",
    "    if file_path.exists():\n",
    "        continue\n",
    "    \n",
    "    # skip folders\n",
    "    if not obj_raw.key.endswith(\".json\"):\n",
    "        continue\n",
    "        \n",
    "    # read data\n",
    "    game = read_json_from_s3(bucket_name=bucket_raw.name, key=obj_raw.key)\n",
    "    df = get_df_players(game=game)\n",
    "    \n",
    "    # save data into PARQUET file\n",
    "    # df.to_parquet(path=f\"s3://{bucket_base.name}/{parquet_file_key}\", index=False)\n",
    "    df.to_parquet(path=file_path)\n",
    "    \n",
    "    # break"
   ]
  },
  {
   "cell_type": "markdown",
   "id": "b670e813",
   "metadata": {},
   "source": [
    "### v3"
   ]
  },
  {
   "cell_type": "code",
   "execution_count": 14,
   "id": "b93eb2e0",
   "metadata": {},
   "outputs": [],
   "source": [
    "cols_v3 = [\n",
    "    # general game info\n",
    "    \"game_id\",\n",
    "    \"game_date\",\n",
    "    \n",
    "    # game play-by-play\n",
    "    \"player_id\",\n",
    "    \"team_id\",\n",
    "    \"season\",\n",
    "    \"first_name\",\n",
    "    \"last_name\",\n",
    "    \"sweater_number\",\n",
    "    \"position_code\",\n",
    "    \"headshot\",\n",
    "    \n",
    "    # game log data\n",
    "    \"pim\",\n",
    "    \"toi\",\n",
    "    \"shifts\",\n",
    "    \"plus_minus\",\n",
    "    \"power_play_goals\",\n",
    "    \"power_play_points\",\n",
    "    \"shorthanded_goals\",\n",
    "    \"shorthanded_points\",\n",
    "    \"game_winning_goals\",\n",
    "    \"ot_goals\",\n",
    "]"
   ]
  },
  {
   "cell_type": "code",
   "execution_count": 16,
   "id": "113eebb7",
   "metadata": {},
   "outputs": [
    {
     "data": {
      "application/vnd.jupyter.widget-view+json": {
       "model_id": "8f5ac0911e9c4ba6ad34975c3015fbbc",
       "version_major": 2,
       "version_minor": 0
      },
      "text/plain": [
       "  0%|          | 0/5147 [00:00<?, ?it/s]"
      ]
     },
     "metadata": {},
     "output_type": "display_data"
    }
   ],
   "source": [
    "files_v2 = [file for file in (DATA_PATH / \"players-v2\").glob(\"**/*.parquet\")]\n",
    "\n",
    "for file_path_v2 in tqdm(files_v2, total=len(files_v2)):\n",
    "    \n",
    "    # create new path\n",
    "    file_path_v3 = Path(file_path_v2.as_posix().replace(\"players-v2\", \"players-v3\"))\n",
    "    file_path_v3.parent.mkdir(parents=True, exist_ok=True)\n",
    "    \n",
    "    # save data\n",
    "    df = pd.read_parquet(file_path_v2)\n",
    "    df.loc[:, cols_v3].to_parquet(path=file_path_v3)"
   ]
  }
 ],
 "metadata": {
  "kernelspec": {
   "display_name": "Python 3 (ipykernel)",
   "language": "python",
   "name": "python3"
  },
  "language_info": {
   "codemirror_mode": {
    "name": "ipython",
    "version": 3
   },
   "file_extension": ".py",
   "mimetype": "text/x-python",
   "name": "python",
   "nbconvert_exporter": "python",
   "pygments_lexer": "ipython3",
   "version": "3.10.12"
  }
 },
 "nbformat": 4,
 "nbformat_minor": 5
}
